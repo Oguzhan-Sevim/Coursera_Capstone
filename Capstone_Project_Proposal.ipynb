{
    "cells": [
        {
            "cell_type": "markdown",
            "metadata": {
                "collapsed": true
            },
            "source": "# Project Name: 2 Step Consequtive Recommender"
        },
        {
            "cell_type": "markdown",
            "metadata": {},
            "source": "In this project, I will implement a 2 step recommender by using Foursquare API data. When the user specifies 2 activities by using 2 keywords (e.g., (pizza-museum), (coffee-pub)), the script will responde by showing the best possible consecutive scenarios on the map.\n\nThe recommender system will also allow user to filter the recommendations further by accepting more entries such as an upper limit for distance, a lower limit for the venue ratings, and number of results to be displayed. While displaying the results, the rating of each venue along with top rated comments will also be shown to the user for a clear selection."
        },
        {
            "cell_type": "markdown",
            "metadata": {},
            "source": "### Problem Statement:"
        },
        {
            "cell_type": "markdown",
            "metadata": {},
            "source": "As far as I know, there is no such app that makes consecutive recommendations. To many times, I have found myself in the situations where I say \"OK, I want to go to that place, but first let's eat/drink something because I am hungry/sleepy.\". A consecutive recommender would be a great help in these types of moments."
        },
        {
            "cell_type": "markdown",
            "metadata": {},
            "source": "### Data & How to use it:"
        },
        {
            "cell_type": "markdown",
            "metadata": {},
            "source": "Only the Foursquare API data will be used in this project. 2 types of call will be made to get the needed information. First type will be the \"venues/explore\" calls. By this calls, we will make search around the current location of the user by using the keyword defined. Then, by sorting the results according to the user needs (filters), we will get the names and IDs of the places to be recommended.\n\nAfter getting the IDs of the places to be recommended, we will request for the details of these places by \"venues/VENUE_ID\" calls. These details will include the ratings of the given place and the tips written for it.\n\nThen, by further modifications and attaching these 2 dataframes together properly, we will end up with venue names with top ratings and top comments. The results will also be shown on map with a easily interpretable fashion."
        }
    ],
    "metadata": {
        "kernelspec": {
            "display_name": "Python 3.6",
            "language": "python",
            "name": "python3"
        },
        "language_info": {
            "codemirror_mode": {
                "name": "ipython",
                "version": 3
            },
            "file_extension": ".py",
            "mimetype": "text/x-python",
            "name": "python",
            "nbconvert_exporter": "python",
            "pygments_lexer": "ipython3",
            "version": "3.6.9"
        }
    },
    "nbformat": 4,
    "nbformat_minor": 1
}